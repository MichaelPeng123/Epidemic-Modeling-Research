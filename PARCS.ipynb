{
 "cells": [
  {
   "cell_type": "code",
   "execution_count": 50,
   "metadata": {},
   "outputs": [],
   "source": [
    "# Import stuff\n",
    "%matplotlib inline\n",
    "import numpy as np\n",
    "import networkx as nx\n",
    "import matplotlib.pyplot as plt\n",
    "import random\n",
    "import copy\n",
    "import math\n",
    "import pandas as pd\n",
    "from networkx import grid_graph\n",
    "import statistics\n",
    "\n",
    "\n",
    "\n",
    "# DATASETS ARE INCLUDED AT THE BOTTOM IN THE FORM OF ARRAYS.\n"
   ]
  },
  {
   "cell_type": "code",
   "execution_count": 39,
   "metadata": {},
   "outputs": [],
   "source": [
    "\"\"\"Model Parameters, important to be initialized at the start to create a reference\"\"\" \n",
    "# number_of_nodes = 50\n",
    "# number of days till incubation\n",
    "iDays = 2\n",
    "# prob oof ndoe becoming symptomatic\n",
    "c_prob = 1/5\n",
    "# total days in sim\n",
    "steps = 120\n",
    "# sample test size\n",
    "sample = 5\n",
    "# prob of infection\n",
    "prob = 0.01\n",
    "# prob of removal\n",
    "rprob = 1/14\n",
    "# ignoroe\n",
    "sym_prob = 0/200\n",
    "# ignroe\n",
    "d_prob = 0/200\n",
    "# intial infected\n",
    "initialInfected = 10\n",
    "# positively tested\n",
    "testPositive = 0\n",
    "# generally tested\n",
    "testedGeneral = 0\n",
    "# x array\n",
    "x = []\n",
    "# infected arrray\n",
    "y = []\n",
    "# suscetable aray\n",
    "sY = []\n",
    "# removed array\n",
    "rY = []\n",
    "# symptomatic array\n",
    "cY = []\n",
    "# ignore\n",
    "qY = []\n",
    "# ignore\n",
    "dY = []\n",
    "# family infected array\n",
    "fY = []\n",
    "# ignore\n",
    "f2Y = []\n",
    "# ignore\n",
    "rGraph = []\n",
    "# nodes list\n",
    "nodes = []\n",
    "# diseased list for sample selecting\n",
    "diseased = []\n",
    "# test sample list to be tested\n",
    "test_sample = []\n",
    "# dictionaries for family assignements\n",
    "familyDict = dict()\n",
    "infectedDict = dict()\n",
    "faminfectedDict = dict()\n",
    "referenceDict = dict()\n",
    "# infected counter\n",
    "initial = 10\n",
    "# family graph storage\n",
    "famGraph = []\n",
    "\n",
    "\n",
    "# list that stores first wave infections\n",
    "lfn = []\n",
    "\n",
    "# prob of a family infection(ignore always assume same value as infection prob)\n",
    "famProb = 0.02\n",
    "\n",
    "\n",
    "# infectionn type counterr\n",
    "preInfected = 0\n",
    "sympInfected = 0\n",
    "\n",
    "# quarantined type counter\n",
    "preQ = 0\n",
    "sympQ = 0\n",
    "\n",
    "# families in total\n",
    "families = 0\n",
    "\n",
    "# ignore, for recording data\n",
    "xvals = []\n",
    "yvals = []\n",
    "\n",
    "barPeak = []\n",
    "std = []\n",
    "# totalViral = 20\n"
   ]
  },
  {
   "cell_type": "code",
   "execution_count": 40,
   "metadata": {},
   "outputs": [],
   "source": [
    "'''Generates degree distributed family graph(not relevant for project)'''\n",
    "def generateDegreeDistributedFamilyGraph(num_nodes, familyProb):\n",
    "    graph1 = nx.Graph()\n",
    "    # def generateGraph():\n",
    "\n",
    "    # Graph generation\n",
    "    n = num_nodes\n",
    "    p = 0.001\n",
    "    # probability of next cluster being a family\n",
    "#     familyProb = 0.3\n",
    "    graph1 = nx.Graph()        \n",
    "    degrees = generate_power_law_degrees(num_nodes, 1, 6, 0.4)\n",
    "    nodes_multiple = np.concatenate([np.full(degree, i) for i, degree in enumerate(degrees)])\n",
    "    np.random.shuffle(nodes_multiple)\n",
    "    if nodes_multiple.shape[0] % 2 == 1:\n",
    "        nodes_multiple = nodes_multiple[:-1]\n",
    "    edges = nodes_multiple.reshape((nodes_multiple.shape[0] // 2, 2))\n",
    "#     graph1 = nx.MultiGraph()\n",
    "    graph1.add_nodes_from(np.arange(num_nodes))\n",
    "    graph1.add_edges_from(edges)\n",
    "    # node index\n",
    "    curr = 0\n",
    "    equalizer = 1\n",
    "    print(familyProb)\n",
    "    while curr <= n:\n",
    "        if random.random() <= familyProb:\n",
    "            for iterator in range(equalizer):\n",
    "                graph1.add_node(curr+iterator)\n",
    "                familyDict[curr+iterator] = list([-1])\n",
    "            curr+=equalizer\n",
    "            equalizer = 0\n",
    "#             print(curr)\n",
    "        else:\n",
    "            limit = random.randint(4, 8)\n",
    "            equalizer = limit\n",
    "            for i in range(limit):\n",
    "                for j in range(limit):\n",
    "                    graph1.add_edge(curr+i, curr+j)\n",
    "                    if curr+i in familyDict:\n",
    "                        b = list(familyDict[curr+i])\n",
    "                        b.append(curr+j)\n",
    "                        familyDict[curr+i] = b\n",
    "                    else:\n",
    "                        familyDict[curr+i] = [curr+j]\n",
    "            curr+=limit    \n",
    "    return graph1\n"
   ]
  },
  {
   "cell_type": "code",
   "execution_count": 41,
   "metadata": {},
   "outputs": [],
   "source": [
    "'''Generates scale free graph(not relevant for project)'''\n",
    "def generateDegreeDistributedGraph(num_nodes):\n",
    "    degrees = generate_power_law_degrees(num_nodes, 1, 6, 0.4)\n",
    "    nodes_multiple = np.concatenate([np.full(degree, i) for i, degree in enumerate(degrees)])\n",
    "    np.random.shuffle(nodes_multiple)\n",
    "    if nodes_multiple.shape[0] % 2 == 1:\n",
    "        nodes_multiple = nodes_multiple[:-1]\n",
    "    edges = nodes_multiple.reshape((nodes_multiple.shape[0] // 2, 2))\n",
    "    graph1 = nx.Graph()\n",
    "    graph1.add_nodes_from(np.arange(num_nodes))\n",
    "    graph1.add_edges_from(edges)\n",
    "    \n",
    "    for iteration in range(num_nodes):\n",
    "        familyDict[iteration] = list([-1])\n",
    "    \n",
    "    return graph1\n",
    "    "
   ]
  },
  {
   "cell_type": "code",
   "execution_count": 42,
   "metadata": {},
   "outputs": [
    {
     "ename": "IndentationError",
     "evalue": "unexpected indent (<ipython-input-42-ab27807a39fd>, line 16)",
     "output_type": "error",
     "traceback": [
      "\u001b[0;36m  File \u001b[0;32m\"<ipython-input-42-ab27807a39fd>\"\u001b[0;36m, line \u001b[0;32m16\u001b[0m\n\u001b[0;31m    curr = 0\u001b[0m\n\u001b[0m    ^\u001b[0m\n\u001b[0;31mIndentationError\u001b[0m\u001b[0;31m:\u001b[0m unexpected indent\n"
     ]
    }
   ],
   "source": [
    "'''Generates family graph for simulation'''\n",
    "def generateFamilyGraph(num_nodes, p_val):\n",
    "    familyProb = 0.2\n",
    "\n",
    "    \n",
    "    global families\n",
    "    \n",
    "    \n",
    "    n=num_nodes\n",
    "    p=p_val\n",
    "\n",
    "    graph1 = nx.Graph()\n",
    "\n",
    "    # node index\n",
    "'''Assigning Families'''\n",
    "    curr = 0\n",
    "    equalizer = 1\n",
    "    print(familyProb)\n",
    "    while curr <= n:\n",
    "        if random.random() <= familyProb:\n",
    "            for iterator in range(equalizer):\n",
    "                graph1.add_node(curr+iterator)\n",
    "                familyDict[curr+iterator] = list([-1])\n",
    "            curr+=equalizer\n",
    "            equalizer = 0\n",
    "#             print(curr)\n",
    "        else:\n",
    "            families +=1\n",
    "            limit = random.randint(4, 8)\n",
    "            equalizer = limit\n",
    "            for i in range(limit):\n",
    "                for j in range(limit):\n",
    "                    graph1.add_edge(curr+i, curr+j)\n",
    "                    if curr+i in familyDict:\n",
    "                        b = list(familyDict[curr+i])\n",
    "                        b.append(curr+j)\n",
    "                        familyDict[curr+i] = b\n",
    "                    else:\n",
    "                        familyDict[curr+i] = [curr+j]\n",
    "            curr+=limit    \n",
    "\n",
    "    \n",
    "    for i in range(num_nodes+30):\n",
    "        faminfectedDict[i] = 0\n",
    "        infectedDict[i] = 0\n",
    "\n",
    "'''Assigning random links within families'''\n",
    "    w = -1\n",
    "    lp = math.log(1.0 - p)\n",
    "    v = 1\n",
    "    while v < n:\n",
    "        lr = math.log(1.0 - random.random())\n",
    "        w = w + 1 + int(lr/lp)\n",
    "        while w >= v and v < n:\n",
    "            w = w - v\n",
    "            v = v + 1\n",
    "        if v < n:\n",
    "            graph1.add_edge(v, w)\n",
    "            \n",
    "    return graph1\n"
   ]
  },
  {
   "cell_type": "code",
   "execution_count": null,
   "metadata": {},
   "outputs": [],
   "source": [
    "'''Generate random GNP graph'''\n",
    "def generateRandomGraph(num_nodes, p_val):\n",
    "    graph1 = nx.fast_gnp_random_graph(num_nodes, p_val)\n",
    "    for i in range(num_nodes):\n",
    "        familyDict[i] = [-1]\n",
    "        infectedDict[i] = 0\n",
    "        faminfectedDict[i] = 0\n",
    "        \n",
    "    return graph1"
   ]
  },
  {
   "cell_type": "code",
   "execution_count": null,
   "metadata": {},
   "outputs": [],
   "source": [
    "'''Power law degrees distributor, not relevant'''\n",
    "def generate_power_law_degrees(n, min_degree, mean_degree, gamma):\n",
    "    assert gamma >= 0\n",
    "    power_law_values = 1 / np.random.random(n)**gamma - 1 + 1e-10\n",
    "    value_mean = np.mean(power_law_values)\n",
    "    frac_degrees = min_degree + power_law_values / value_mean * (mean_degree - min_degree)\n",
    "    int_degrees = frac_degrees.astype(int) + (np.random.random(n) < (frac_degrees %1))\n",
    "    return int_degrees"
   ]
  },
  {
   "cell_type": "code",
   "execution_count": null,
   "metadata": {},
   "outputs": [],
   "source": [
    "'''Draws distribution of nodes, not relevant'''\n",
    "def drawDistribution(graph):\n",
    "    arr = list()\n",
    "    for i in graph.nodes():\n",
    "        nbrs = list(graph.neighbors(i))\n",
    "        arr.append(len(nbrs))\n",
    "        \n",
    "    \n",
    "    plt.xlabel(\"degree of node\")\n",
    "    plt.ylabel(\"number of nodes\")\n",
    "    plt.title(\"Degree Distribution\")\n",
    "    df = pd.DataFrame({'freq': list(arr)})\n",
    "    df.groupby('freq', as_index=False).size().plot(kind='bar')\n",
    "    plt.autoscale()\n",
    "    plt.show()"
   ]
  },
  {
   "cell_type": "code",
   "execution_count": null,
   "metadata": {},
   "outputs": [],
   "source": [
    "'''Class that represents a singular node'''\n",
    "class nodeClass:\n",
    "    \n",
    "# initialize all fields\n",
    "    def __init__(self, i):\n",
    "        self.node_id = i\n",
    "        self.number = 0\n",
    "        self.condition = \"s\"\n",
    "        self.neighbors = list(G.neighbors(i))\n",
    "        self.tested = False\n",
    "        self.virus = False\n",
    "        self.state = 'n'\n",
    "        self.family = familyDict[i]\n",
    "        self.hadVirus = False\n",
    "\n",
    "# changes condition to specified condition\n",
    "    def changeCondition(self, c):\n",
    "        self.condition = c\n",
    "        \n",
    "# Increments day of being infected for node\n",
    "    def incrementDay(self):\n",
    "        self.number=self.number+1\n",
    "# resets nodes into susceptible\n",
    "    def reset(self):\n",
    "        self.condition = \"s\"\n",
    "        self.number=0\n",
    "        self.virus = False\n",
    "        self.tested = False\n",
    "# lowers neighbors into self isolation\n",
    "    def lowerNeighbors(self):\n",
    "        self.state = 'c'\n",
    "    \n",
    "# checks neighboors for infection\n",
    "    def checkNeighbors(self, tst, st, c):\n",
    "        new = copy.deepcopy(st)\n",
    "        nbrs = copy.deepcopy(self.neighbors)\n",
    "        \n",
    "        \n",
    "        \n",
    "        if self.state == 'q':\n",
    "            return st\n",
    "        elif self.state == 'c':\n",
    "            placeholder= 0\n",
    "# next 4 lines are the self isolation portion of code, comment out to see non self-isolation simulation\n",
    "            if self.family[0]!= -1:\n",
    "                nbrs = self.family\n",
    "            else:\n",
    "                return st\n",
    "# Infection of all neighbors\n",
    "        global famProb\n",
    "        for nbr in nbrs:\n",
    "            prob1 = prob\n",
    "            if nbr in self.family:\n",
    "                prob1 = famProb\n",
    "            \n",
    "            global initial\n",
    "            \n",
    "            \n",
    "            if random.random() <= prob1 and (st[nbr].condition == 's' or st[nbr].condition == 'c') and st[nbr].virus == False:\n",
    "                \n",
    "                \n",
    "                \n",
    "                if self.node_id in infectedDict:\n",
    "                    infectedDict[self.node_id] = infectedDict[self.node_id] + 1\n",
    "                else:\n",
    "                    infectedDict[self.node_id] = 1\n",
    "                    \n",
    "                if nbr in self.family:\n",
    "                    if self.node_id in faminfectedDict:\n",
    "\n",
    "                        faminfectedDict[self.node_id] = faminfectedDict[self.node_id] + 1\n",
    "                    else:\n",
    "                        faminfectedDict[self.node_id] = 1\n",
    "                       \n",
    "                if self.node_id in lfn:\n",
    "                    initial+=1\n",
    "\n",
    "# set end conditions\n",
    "                global sympInfected\n",
    "                global preInfected\n",
    "                if (self.condition == 'c'):\n",
    "                    sympInfected+=1\n",
    "                elif (self.condition == 'i'):\n",
    "                    preInfected+=1\n",
    "                new[nbr].changeCondition(c)\n",
    "                new[nbr].virus = True\n",
    "                new[nbr].hadVirus = True\n",
    "                \n",
    "        return new\n",
    "    \n",
    "# test process for singular node\n",
    "    def test(self, st):\n",
    "        global testedGeneral\n",
    "        global testPositive\n",
    "        \n",
    "        global preQ \n",
    "        global sympQ\n",
    "        \n",
    "        testedGeneral += 1\n",
    "        \n",
    "        new = copy.deepcopy(st)\n",
    "        if self.hadVirus:\n",
    "            self.state = 'q'\n",
    "            testPositive +=1\n",
    "            if self.condition == 'c':\n",
    "                sympQ+=1\n",
    "            elif self.condition == 'i':\n",
    "                preQ+=1\n",
    "                \n",
    "            new[self.node_id].state = 'q'\n",
    "            new[self.node_id].tested = True\n",
    "        return new\n",
    "    \n",
    "# condition called in test trace, not the most relevant\n",
    "    def test1(self):\n",
    "        global testedGeneral\n",
    "        global testPositive\n",
    "        \n",
    "        global preQ \n",
    "        global sympQ\n",
    "        \n",
    "        testedGeneral += 1\n",
    "        if self.hadVirus:\n",
    "            self.state = 'q'\n",
    "            testPositive +=1\n",
    "            if self.condition == 'c':\n",
    "                sympQ+=1\n",
    "            elif self.condition == 'i':\n",
    "                preQ+=1\n",
    "        \n",
    "            self.tested = True\n",
    "            \n",
    "        \n",
    "\n",
    "# Test and trace node\n",
    "    def trace(self, st):\n",
    "        \n",
    "        global preQ \n",
    "        global sympQ\n",
    "        \n",
    "        global testedGeneral\n",
    "        global testPositive\n",
    "        new = copy.deepcopy(st)\n",
    "        testedGeneral += 1\n",
    "        if self.hadVirus:\n",
    "            self.state = 'q'\n",
    "            testPositive +=1\n",
    "            new[self.node_id].state = 'q'\n",
    "            new[self.node_id].tested = True\n",
    "            \n",
    "            if self.condition == 'c':\n",
    "                sympQ+=1\n",
    "            elif self.condition == 'i':\n",
    "                preQ+=1\n",
    "            \n",
    "            for nbr in self.family:\n",
    "                new[nbr].test1()\n",
    "        return new\n",
    "        \n",
    "        \n",
    "        \n",
    "# returns number of neighbors\n",
    "    def getDegree(self):\n",
    "        return len(list(self.neighbors))\n",
    "    \n",
    "     "
   ]
  },
  {
   "cell_type": "code",
   "execution_count": null,
   "metadata": {},
   "outputs": [],
   "source": [
    "'''Runs simulation portioon of code'''\n",
    "def runSimulation(G):\n",
    "    \n",
    "    totalViral = 0\n",
    "    nodes = list()\n",
    "    for i in G.nodes():\n",
    "        nodes.append(nodeClass(i))\n",
    "#     setting up initial infected\n",
    "    for num in range(initialInfected):\n",
    "        val = random.randint(0, G.number_of_nodes()-1)\n",
    "        nodes[val].condition = 'i'\n",
    "        nodes[val].virus = True\n",
    "        lfn.append(val)\n",
    "\n",
    "#     iterating through all steps(120\n",
    "    for t in range(steps):\n",
    "\n",
    "        counter = 0\n",
    "        sCounter = 0\n",
    "        rCounter = 0\n",
    "        cCounter = 0\n",
    "        qCounter = 0\n",
    "        dCounter = 0\n",
    "        fCounter = 0\n",
    "        totalSum = 0\n",
    "        iCounter = 0\n",
    "        f2Counter = 0\n",
    "        \n",
    "        \n",
    "\n",
    "        faminfectedDict.clear()\n",
    "        infectedDict.clear()\n",
    "#         Iterating through all nodes in the graph\n",
    "        for p in G.nodes():\n",
    "            \n",
    "            \n",
    "            '''Record Values'''\n",
    "            if nodes[p].virus:\n",
    "                counter=counter+1\n",
    "            if nodes[p].condition == 's' and nodes[p].virus == False:\n",
    "                sCounter = sCounter+1\n",
    "            if nodes[p].condition == 'r':\n",
    "                rCounter = rCounter+1\n",
    "            if nodes[p].condition == 'c':\n",
    "                cCounter = cCounter+1\n",
    "            if nodes[p].state == 'q':\n",
    "                qCounter = qCounter+1\n",
    "            if nodes[p].condition == 'd':\n",
    "                dCounter = dCounter+1\n",
    "            \n",
    "            if (nodes[p].condition == 'c' or nodes[p].condition == 'i') and nodes[p].virus == True:\n",
    "                iCounter+=1\n",
    "\n",
    "            \n",
    "            \n",
    "        totalViral = totalViral + counter\n",
    "        x.append(t)\n",
    "        y.append(counter)\n",
    "        \n",
    "        sY.append(sCounter)\n",
    "        rY.append(rCounter)\n",
    "        cY.append(cCounter)\n",
    "        qY.append(qCounter)\n",
    "        dY.append(dCounter)\n",
    "\n",
    "\n",
    "        \n",
    "        tnodes = copy.deepcopy(nodes)\n",
    "# Runs main simulation process on all nodes\n",
    "        for snd in G.nodes():\n",
    "            changeNode = nodes[snd]\n",
    "            currNode = tnodes[snd]\n",
    "\n",
    "# Condition checking if node is susceptible\n",
    "            if currNode.condition == 's':\n",
    "        \n",
    "#         IMPORTANT: LEAVE THIS PART UNCOMMENTED OUT FOR MASS TESTING BUT COMMMENTED OUT FOR SYMPTOMATIC AND CNOTACT TRACING\n",
    "#                 diseased.append(currNode)\n",
    "                if random.random() <= sym_prob:\n",
    "                    changeNode.condition = 'c'\n",
    "                    changeNode.lowerNeighbors()\n",
    "\n",
    "# Condition checking if node is exposed and in incubation\n",
    "            elif currNode.condition == 'v':\n",
    "        \n",
    "        \n",
    "#         IMPORTANT: LEAVE THIS PART UNCOMMENTED OUT FOR MASS TESTING BUT COMMMENTED OUT FOR SYMPTOMATIC AND CNOTACT TRACING\n",
    "        \n",
    "#                 diseased.append(currNode)\n",
    "                if currNode.number == iDays:\n",
    "                    changeNode.condition = 'i'\n",
    "                    changeNode.tested = False\n",
    "                elif random.random() <= rprob:\n",
    "                    changeNode.condition = 'r'\n",
    "                    changeNode.virus = False\n",
    "                changeNode.incrementDay()\n",
    "                \n",
    "\n",
    "# Conditioon checking if node is presymptomatic but infectuous\n",
    "            elif currNode.condition == 'i':\n",
    "        \n",
    "        \n",
    "#         IMPORTANT: LEAVE THIS PART UNCOMMENTED OUT FOR MASS TESTING BUT COMMMENTED OUT FOR SYMPTOMATIC AND CNOTACT TRACING\n",
    "#                 diseased.append(currNode)\n",
    "                if random.random() < c_prob:\n",
    "                    changeNode.condition = 'c'\n",
    "                    changeNode.lowerNeighbors()\n",
    "                elif random.random() <= rprob:\n",
    "                    changeNode.condition = 'r'\n",
    "                    changeNode.virus = False\n",
    "                changeNode.incrementDay()\n",
    "                nodes = currNode.checkNeighbors(tst= tnodes, st=nodes, c='v')\n",
    "                \n",
    "                \n",
    "# Conditioon checking if node is symptomoatic but infectuous\n",
    "            elif currNode.condition == 'c':\n",
    "                changeNode.incrementDay()\n",
    "\n",
    "                if currNode.virus:\n",
    "\n",
    "                    if random.random() <= d_prob:\n",
    "                        changeNode.condition = 'd'\n",
    "                        changeNode.virus = False \n",
    "                    elif random.random() <= rprob:\n",
    "                        changeNode.condition = 'r'\n",
    "                        changeNode.virus = False\n",
    "                    else:\n",
    "                        diseased.append(currNode)\n",
    "                        \n",
    "                    nodes = currNode.checkNeighbors(tst= tnodes, st=nodes, c='v')  \n",
    "                        \n",
    "                else:\n",
    "                    diseased.append(currNode)\n",
    "                        \n",
    "\n",
    "\n",
    "    \n",
    "# Sampling process of code\n",
    "        if (t % 2 == 0):\n",
    "#             print(\"hi\")\n",
    "            iterator = 0\n",
    "            while (iterator < sample):\n",
    "                if (len(diseased) > 0):\n",
    "                    addNode = diseased.pop(random.randint(0, len(diseased)-1))\n",
    "                    if addNode.tested == False:\n",
    "                        test_sample.append(addNode)\n",
    "                        iterator=iterator+1\n",
    "                else:\n",
    "                    break\n",
    "        # testing process of sample, nodes.trace for contact tracing and nodes.test for mass and symptomatic testing\n",
    "            for i in test_sample:\n",
    "                nodes = nodes[i.node_id].trace(nodes)\n",
    "#                 nodes = nodes[i.node_id].test(nodes)\n",
    "\n",
    "            test_sample.clear()\n",
    "            diseased.clear()\n",
    "\n",
    "    \n",
    "    \n",
    "    \n",
    "# Infected families counter\n",
    "        fam = 0\n",
    "        while (fam<len(familyDict)):\n",
    "            if nodes[fam].virus:\n",
    "                if familyDict[fam] == [-1]:\n",
    "                    fam = fam+1\n",
    "                else:\n",
    "                    fCounter=fCounter+1\n",
    "                    fam = max(familyDict[fam])+1\n",
    "            else:\n",
    "                fam = fam+1\n",
    "\n",
    "        \n",
    "\n",
    "# Completely infected familiess counter\n",
    "        fam = 0\n",
    "        while (fam<len(familyDict)):\n",
    "            if not (nodes[fam].virus):\n",
    "                if familyDict[fam] == [-1]:\n",
    "                    fam = fam+1\n",
    "                else:\n",
    "                    fam = max(familyDict[fam])+1\n",
    "            else:\n",
    "                if fam == max(familyDict[fam]):\n",
    "                    f2Counter+=1\n",
    "                fam = fam+1\n",
    "                \n",
    "        \n",
    "        \n",
    "        \n",
    "        fY.append(fCounter)\n",
    "        f2Y.append(f2Counter)\n",
    "        \n",
    "        \n",
    "# record final values\n",
    "        s = 0\n",
    "        for eva in infectedDict:\n",
    "            s+=infectedDict[eva]\n",
    "        if iCounter == 0:\n",
    "            rGraph.append(0)\n",
    "        else:\n",
    "            rGraph.append((s/iCounter))\n",
    "        s = 0\n",
    "        for eva in faminfectedDict:\n",
    "            s+=faminfectedDict[eva]\n",
    "            \n",
    "        if iCounter == 0:\n",
    "            famGraph.append(0)\n",
    "        else:\n",
    "            famGraph.append((s/iCounter))\n",
    "\n",
    "    \n",
    "    return totalViral\n",
    "\n",
    "\n",
    "\n"
   ]
  },
  {
   "cell_type": "code",
   "execution_count": 43,
   "metadata": {},
   "outputs": [],
   "source": [
    "# Analyze SIR Graph of code and print peak values\n",
    "def analyzeModel(graph_title, totalViral):\n",
    "    quotients = [number / 500 for number in fY]\n",
    "    \n",
    "    for i in range(len(y)):\n",
    "        y[i] = y[i]/800\n",
    "    for i in range(len(y)):\n",
    "        sY[i] = sY[i]/800\n",
    "    for i in range(len(y)):\n",
    "        rY[i] = rY[i]/800\n",
    "        \n",
    "        \n",
    "        \n",
    "    fig = plt.figure(figsize=(10, 5))\n",
    "    ax = fig.add_subplot(111)\n",
    "\n",
    "    ax.scatter(x, y, label = 'Infected')\n",
    "\n",
    "    ax.scatter(x, sY, label = 'Susceptible')\n",
    "    ax.scatter(x, rY, label = 'Removed')\n",
    "    plt.xlabel(\"Time\")\n",
    "\n",
    "    plt.legend()\n",
    "    plt.title(graph_title)\n",
    "    \n",
    "    print(\"peak:\", max(y))\n",
    "\n",
    "    \n",
    "    finalSum = 0\n",
    "    for things in infectedDict:\n",
    "        finalSum+=infectedDict[things]\n",
    "        \n",
    "    \n",
    "\n",
    "    \n",
    "    \n",
    "    plt.ylabel(\"Percentage of Nodes\")\n",
    "    plt.show()\n",
    "    \n",
    "    \n",
    "\n",
    "    yvals.append(max(y) + max(y) + y[len(y)-1])\n"
   ]
  },
  {
   "cell_type": "code",
   "execution_count": 44,
   "metadata": {},
   "outputs": [],
   "source": [
    "# Analyze infected families graph of code\n",
    "def analyzeFamilySpread(graph_title, totalViral):\n",
    "    quotients = [number / 500 for number in fY]\n",
    "    \n",
    "    fig = plt.figure(figsize=(10, 5))\n",
    "    ax = fig.add_subplot(111)\n",
    "    \n",
    "    ax.scatter(x, fY, label = 'Number of Families Infected')\n",
    "    \n",
    "    global sample \n",
    "    print(\"sample:\", sample)\n",
    "    print(\"top:\", max(y), \"yote:\", max(fY)/105)\n",
    "    print(\"Sym:\", sympInfected/800, \"Pre:\", preInfected/800)\n",
    "    bruhy.append(max(fY)/families)\n",
    "\n",
    "    plt.xlabel(\"Time\")\n",
    "\n",
    "    plt.legend()\n",
    "    plt.title(graph_title)\n",
    "    plt.ylabel(\"Fraction of Families\")\n",
    "\n",
    "    plt.show()\n",
    "    \n",
    "    \n",
    "    \n",
    "    \n",
    "    \n",
    "    "
   ]
  },
  {
   "cell_type": "code",
   "execution_count": 45,
   "metadata": {},
   "outputs": [],
   "source": [
    "# Resets all lists for new simuulatioon\n",
    "def resetLists():\n",
    "    x.clear()\n",
    "    y.clear()\n",
    "    sY.clear()\n",
    "    rY.clear()\n",
    "    cY.clear()\n",
    "    qY.clear()\n",
    "    fY.clear()\n",
    "    f2Y.clear()\n",
    "    rGraph.clear()\n",
    "    famGraph.clear()\n",
    "    infectedDict.clear()\n",
    "#     totalViral = 0\n",
    "    lfn = []\n",
    "    global initial\n",
    "    initial = 0\n",
    "    dY.clear()\n",
    "    nodes.clear()\n",
    "    diseased.clear()\n",
    "    test_sample.clear()\n",
    "    familyDict.clear()\n",
    "    preInfected = 0\n",
    "    sympInfected =0"
   ]
  },
  {
   "cell_type": "code",
   "execution_count": null,
   "metadata": {},
   "outputs": [],
   "source": []
  },
  {
   "cell_type": "code",
   "execution_count": null,
   "metadata": {},
   "outputs": [],
   "source": []
  },
  {
   "cell_type": "markdown",
   "metadata": {},
   "source": [
    "# Simulations\n"
   ]
  },
  {
   "cell_type": "code",
   "execution_count": 37,
   "metadata": {},
   "outputs": [],
   "source": [
    "# Here is the code for most of my simulations. I deleted a lot of the datacollection process of the simulations \n",
    "# because it was way too messy and not understandable. Instead I simplified the simulations to a very easy to look at it\n",
    "# if you actually run the simulation however, you would have to comment out specific sectioons. However, the code should\n",
    "# be easily undestandable and all data is recorded in the paper already, so there is no need really to run these simulations."
   ]
  },
  {
   "cell_type": "code",
   "execution_count": null,
   "metadata": {
    "scrolled": true
   },
   "outputs": [],
   "source": [
    "# Family Graph without self isolation(Comment out the self isolation portion in the node class)\n",
    "prob = 0.05\n",
    "famProb = 0.05\n",
    "sample = 0\n",
    "testPositive = 0\n",
    "testedGeneral = 0\n",
    "famillies = 0\n",
    "resetLists()\n",
    "G = generateFamilyGraph(800, 0.006)\n",
    "xvals.append(prob)\n",
    "viral = runSimulation(G)\n",
    "analyzeModel(\"Spread Through Family Network\", viral)\n",
    "analyzeFamilySpread(\"Spread of Infected Families\", 100)\n",
    "\n"
   ]
  },
  {
   "cell_type": "code",
   "execution_count": null,
   "metadata": {},
   "outputs": [],
   "source": [
    "# Randomo graph without self isolation(Comment out the self isolation portion in the node class)\n",
    "prob = 0.05\n",
    "famProb = 0.05\n",
    "sample = 0\n",
    "testPositive = 0\n",
    "testedGeneral = 0\n",
    "famillies = 0\n",
    "resetLists()\n",
    "G = generateRandomGraph(800, 0.0095)\n",
    "xvals.append(prob)\n",
    "viral = runSimulation(G)\n",
    "analyzeModel(\"Spread Through Family Network\", viral)\n",
    "analyzeFamilySpread(\"Spread of Infected Families\", 100)\n"
   ]
  },
  {
   "cell_type": "code",
   "execution_count": 27,
   "metadata": {},
   "outputs": [
    {
     "ename": "NameError",
     "evalue": "name 'x' is not defined",
     "output_type": "error",
     "traceback": [
      "\u001b[0;31m---------------------------------------------------------------------------\u001b[0m",
      "\u001b[0;31mNameError\u001b[0m                                 Traceback (most recent call last)",
      "\u001b[0;32m<ipython-input-27-c5d83beb0b42>\u001b[0m in \u001b[0;36m<module>\u001b[0;34m\u001b[0m\n\u001b[1;32m      6\u001b[0m \u001b[0mtestedGeneral\u001b[0m \u001b[0;34m=\u001b[0m \u001b[0;36m0\u001b[0m\u001b[0;34m\u001b[0m\u001b[0;34m\u001b[0m\u001b[0m\n\u001b[1;32m      7\u001b[0m \u001b[0mfamillies\u001b[0m \u001b[0;34m=\u001b[0m \u001b[0;36m0\u001b[0m\u001b[0;34m\u001b[0m\u001b[0;34m\u001b[0m\u001b[0m\n\u001b[0;32m----> 8\u001b[0;31m \u001b[0mresetLists\u001b[0m\u001b[0;34m(\u001b[0m\u001b[0;34m)\u001b[0m\u001b[0;34m\u001b[0m\u001b[0;34m\u001b[0m\u001b[0m\n\u001b[0m\u001b[1;32m      9\u001b[0m \u001b[0mG\u001b[0m \u001b[0;34m=\u001b[0m \u001b[0mgenerateFamilyGraph\u001b[0m\u001b[0;34m(\u001b[0m\u001b[0;36m800\u001b[0m\u001b[0;34m,\u001b[0m \u001b[0;36m0.006\u001b[0m\u001b[0;34m)\u001b[0m\u001b[0;34m\u001b[0m\u001b[0;34m\u001b[0m\u001b[0m\n\u001b[1;32m     10\u001b[0m \u001b[0mxvals\u001b[0m\u001b[0;34m.\u001b[0m\u001b[0mappend\u001b[0m\u001b[0;34m(\u001b[0m\u001b[0mprob\u001b[0m\u001b[0;34m)\u001b[0m\u001b[0;34m\u001b[0m\u001b[0;34m\u001b[0m\u001b[0m\n",
      "\u001b[0;32m<ipython-input-26-39ecefe1450e>\u001b[0m in \u001b[0;36mresetLists\u001b[0;34m()\u001b[0m\n\u001b[1;32m      1\u001b[0m \u001b[0;31m# Resets all lists for new simuulatioon\u001b[0m\u001b[0;34m\u001b[0m\u001b[0;34m\u001b[0m\u001b[0;34m\u001b[0m\u001b[0m\n\u001b[1;32m      2\u001b[0m \u001b[0;32mdef\u001b[0m \u001b[0mresetLists\u001b[0m\u001b[0;34m(\u001b[0m\u001b[0;34m)\u001b[0m\u001b[0;34m:\u001b[0m\u001b[0;34m\u001b[0m\u001b[0;34m\u001b[0m\u001b[0m\n\u001b[0;32m----> 3\u001b[0;31m     \u001b[0mx\u001b[0m\u001b[0;34m.\u001b[0m\u001b[0mclear\u001b[0m\u001b[0;34m(\u001b[0m\u001b[0;34m)\u001b[0m\u001b[0;34m\u001b[0m\u001b[0;34m\u001b[0m\u001b[0m\n\u001b[0m\u001b[1;32m      4\u001b[0m     \u001b[0my\u001b[0m\u001b[0;34m.\u001b[0m\u001b[0mclear\u001b[0m\u001b[0;34m(\u001b[0m\u001b[0;34m)\u001b[0m\u001b[0;34m\u001b[0m\u001b[0;34m\u001b[0m\u001b[0m\n\u001b[1;32m      5\u001b[0m     \u001b[0msY\u001b[0m\u001b[0;34m.\u001b[0m\u001b[0mclear\u001b[0m\u001b[0;34m(\u001b[0m\u001b[0;34m)\u001b[0m\u001b[0;34m\u001b[0m\u001b[0;34m\u001b[0m\u001b[0m\n",
      "\u001b[0;31mNameError\u001b[0m: name 'x' is not defined"
     ]
    }
   ],
   "source": [
    "# Family Graph with self isolation(Uncomment out the self isolation portion in the node class)\n",
    "prob = 0.05\n",
    "famProb = 0.05\n",
    "sample = 0\n",
    "testPositive = 0\n",
    "testedGeneral = 0\n",
    "famillies = 0\n",
    "resetLists()\n",
    "G = generateFamilyGraph(800, 0.006)\n",
    "xvals.append(prob)\n",
    "viral = runSimulation(G)\n",
    "analyzeModel(\"Spread Through Family Network\", viral)\n",
    "analyzeFamilySpread(\"Spread of Infected Families\", 100)\n",
    "\n"
   ]
  },
  {
   "cell_type": "markdown",
   "metadata": {},
   "source": [
    "# Symptomatic Testing"
   ]
  },
  {
   "cell_type": "code",
   "execution_count": null,
   "metadata": {
    "scrolled": true
   },
   "outputs": [],
   "source": [
    "# Comment out specified instructions in Run Simulation portion of the code to do symptomoatic testing\n",
    "sample = 0\n",
    "\n",
    "while (sample <= 192):\n",
    "    preQ = 0\n",
    "    sympQ = 0\n",
    "    prob = 0.06\n",
    "    famProb = 0.06\n",
    "    families = 0\n",
    "    sympInfected = 0\n",
    "    preInfected = 0\n",
    "    testPositive = 0\n",
    "    testedGeneral = 0\n",
    "    resetLists()\n",
    "    G = generateFamilyGraph(800, 0.006)\n",
    "\n",
    "    # drawDistribution(G)\n",
    "    xvals.append(prob)\n",
    "    viral = runSimulation(G)\n",
    "    analyzeModel(\"Spread Through Family Network\", viral)\n",
    "    analyzeFamilySpread(\"Spread of Infected Families\", 100)\n",
    "\n",
    "    sample+=16"
   ]
  },
  {
   "cell_type": "code",
   "execution_count": 222,
   "metadata": {},
   "outputs": [],
   "source": []
  },
  {
   "cell_type": "markdown",
   "metadata": {},
   "source": [
    "# Mass Testing"
   ]
  },
  {
   "cell_type": "code",
   "execution_count": null,
   "metadata": {
    "scrolled": true
   },
   "outputs": [],
   "source": [
    "# Comment out specified instructions in Run Simulation portion of the code to do mass testing\n",
    "sample = 0\n",
    "\n",
    "while (sample <= 192):\n",
    "    preQ = 0\n",
    "    sympQ = 0\n",
    "    prob = 0.06\n",
    "    famProb = 0.06\n",
    "    families = 0\n",
    "    sympInfected = 0\n",
    "    preInfected = 0\n",
    "    testPositive = 0\n",
    "    testedGeneral = 0\n",
    "    resetLists()\n",
    "    G = generateFamilyGraph(800, 0.006)\n",
    "    xvals.append(prob)\n",
    "    viral = runSimulation(G)\n",
    "    analyzeModel(\"Spread Through Family Network\", viral)\n",
    "    analyzeFamilySpread(\"Spread of Infected Families\", 100)\n",
    "\n",
    "    \n",
    "    \n",
    "    sample+=16"
   ]
  },
  {
   "cell_type": "markdown",
   "metadata": {},
   "source": [
    "# Contact Tracing"
   ]
  },
  {
   "cell_type": "code",
   "execution_count": null,
   "metadata": {},
   "outputs": [],
   "source": []
  },
  {
   "cell_type": "code",
   "execution_count": null,
   "metadata": {
    "scrolled": true
   },
   "outputs": [],
   "source": [
    "# Comment out specified instructions in Run Simulation portion of the code to do contact tracing\n",
    "sample = 2\n",
    "\n",
    "while (sample <= 36):\n",
    "    preQ = 0\n",
    "    sympQ = 0\n",
    "    prob = 0.06\n",
    "    famProb = 0.06\n",
    "    families = 0\n",
    "    sympInfected = 0\n",
    "    preInfected = 0\n",
    "    testPositive = 0\n",
    "    testedGeneral = 0\n",
    "    resetLists()\n",
    "    G = generateFamilyGraph(800, 0.006)\n",
    "\n",
    "    # drawDistribution(G)\n",
    "    xvals.append(prob)\n",
    "    viral = runSimulation(G)\n",
    "    analyzeModel(\"Spread Through Family Network\", viral)\n",
    "    analyzeFamilySpread(\"Spread of Infected Families\", 100)\n",
    "\n",
    "    \n",
    "    \n",
    "    sample+=2"
   ]
  },
  {
   "cell_type": "markdown",
   "metadata": {},
   "source": [
    "#  Plots and Data Entering(Feel free to ignore because too messy)"
   ]
  },
  {
   "cell_type": "code",
   "execution_count": null,
   "metadata": {},
   "outputs": [],
   "source": [
    "# this sectioon is just me plotting specific values into graphs and plots. It is very messy so feel free to ignore it. \n",
    "# all the graphs can be fuond in the paper. Dataset is at the very bottom."
   ]
  },
  {
   "cell_type": "code",
   "execution_count": 36,
   "metadata": {},
   "outputs": [],
   "source": []
  },
  {
   "cell_type": "code",
   "execution_count": 31,
   "metadata": {},
   "outputs": [],
   "source": [
    "bruhy = []"
   ]
  },
  {
   "cell_type": "code",
   "execution_count": 32,
   "metadata": {},
   "outputs": [],
   "source": [
    "bruhx = []\n",
    "hi = 0\n",
    "while hi < 0.044:\n",
    "    bruhx.append(hi)\n",
    "    hi+=0.001"
   ]
  },
  {
   "cell_type": "code",
   "execution_count": 258,
   "metadata": {},
   "outputs": [],
   "source": [
    "yeety = [0.0125, 0.0125, 0.01125, 0.015, 0.01375, 0.0125, 0.0125, 0.01375, 0.0175, 0.01375, 0.0225, 0.02875, 0.03, 0.04, 0.0775, 0.02375, 0.07625, 0.06, 0.1075, 0.1275, 0.12875, 0.11875, 0.09875, 0.21, 0.20375, 0.19875, 0.20875, 0.175, 0.21375, 0.2125, 0.255, 0.2325, 0.27125, 0.295, 0.28, 0.3075, 0.31125, 0.255, 0.29875, 0.30375, 0.38, 0.3425, 0.3525, 0.33875, 0.35, 0.39, 0.34, 0.4, 0.41, 0.42, 0.39, 0.49]\n",
    "\n"
   ]
  },
  {
   "cell_type": "code",
   "execution_count": 245,
   "metadata": {},
   "outputs": [
    {
     "name": "stdout",
     "output_type": "stream",
     "text": [
      "52\n"
     ]
    }
   ],
   "source": [
    "print(len(xvalues))"
   ]
  },
  {
   "cell_type": "code",
   "execution_count": 259,
   "metadata": {},
   "outputs": [
    {
     "name": "stdout",
     "output_type": "stream",
     "text": [
      "52\n"
     ]
    }
   ],
   "source": [
    "print(len(yeet2y))"
   ]
  },
  {
   "cell_type": "code",
   "execution_count": 54,
   "metadata": {
    "scrolled": true
   },
   "outputs": [
    {
     "data": {
      "text/plain": [
       "<matplotlib.collections.PathCollection at 0x7ff8ed905350>"
      ]
     },
     "execution_count": 54,
     "metadata": {},
     "output_type": "execute_result"
    },
    {
     "data": {
      "image/png": "[encoded data removed]",
      "text/plain": [
       "<Figure size 432x288 with 1 Axes>"
      ]
     },
     "metadata": {
      "needs_background": "light"
     },
     "output_type": "display_data"
    }
   ],
   "source": [
    "plt.scatter(bruhx, bruhy)"
   ]
  },
  {
   "cell_type": "code",
   "execution_count": 96,
   "metadata": {},
   "outputs": [],
   "source": [
    "# recorded data for symptomatic testing\n",
    "\n",
    "# curve peak\n",
    "st1 = [0.28, 0.18875, 0.17, 0.2025, 0.1775, 0.21125, 0.2025, 0.2525, 0.20625, 0.205, 0.205, 0.1987, 0.2325]\n",
    "# family curve peak\n",
    "st2 = [0.863, 0.73725, 0.56375, 0.56625, 0.5825, 0.5975, 0.54624, 0.62, 0.69, 0.66, 0.6, 0.64, 0.7212]\n",
    "# presymptoomatic infections\n",
    "st3 = [0.61, 0.57, 0.56, 0.56625, 0.5825, 0.5975, 0.54625, 0.5825, 0.57875, 0.63875, 0.61875, 0.634, 0.62375]"
   ]
  },
  {
   "cell_type": "code",
   "execution_count": 28,
   "metadata": {},
   "outputs": [],
   "source": [
    "# Recorded Datasets\n",
    "xax = []\n",
    "al = 0.0\n",
    "while al <= 0.09:\n",
    "    al+=0.001\n",
    "    xax.append(al)\n",
    "xvalues = [0, 0.001, 0.002, 0.003, 0.004, 0.005, 0.006, 0.007, 0.008, 0.009, 0.01, 0.011, 0.012, 0.013, 0.014, 0.015, 0.016, 0.017, 0.018, 0.019, 0.02, 0.021, 0.022, 0.023, 0.024, 0.025, 0.026, 0.027, 0.028, 0.029, 0.03, 0.031, 0.032, 0.033, 0.034, 0.035, 0.036, 0.037, 0.038, 0.039, 0.04, 0.041, 0.042, 0.043, 0.044, 0.045, 0.046, 0.047, 0.048, 0.049, 0.05, 0.06]\n",
    "famYax= [0.0125, 0.0136, 0.0125, 0.0158, 0.0159, 0.0173, 0.018, 0.0163, 0.0147, 0.023, 0.02, 0.0321, 0.0219, 0.018, 0.069, 0.0875, 0.097, 0.014, 0.0121, 0.0163 ,0.165, 0.162, 0.138, 0.188, 0.199, 0.1925, 0.246, 0.233, 0.25, 0.212, 0.2537, 0.27, 0.287, 0.335, 0.319, 0.289, 0.357, 0.387, 0.396, 0.387, 0.372, 0.375, 0.391, 0.388, 0.412, 0.379, 0.372, 0.42, 0.387, 0.392, 0.421, 0.4187, 0.4276, 0.512, 0.38, 0.421, 0.421, 0.4319, 0.4197, 0.382, 0.42125, 0.43, 0.412, 0.423, 0.442, 0.376, 0.42, 0.42, 0.462, 0.451, 0.432 ,0.45, 0.46, 0.52, 0.435, 0.492, 0.512, 0.47, 0.501, 0.481, 0.521, 0.51, 0.462, 0.392, 0.521, 0.5225, 0.562, 0.503, 0.553, 0.542]\n",
    "yax = [0.0125, 0.0125, 0.0125, 0.0134, 0.0125, 0.0142, 0.013, 0.018, 0.013, 0.017, 0.02, 0.02625, 0.0275, 0.0287, 0.0371, 0.0472, 0.0538, 0.0421, 0.031, 0.052,0.13, 0.083, 0.098, 0.062, 0.121, 0.132, 0.173, 0.093, 0.182, 0.212, 0.183, 0.172, 0.132, 0.221, 0.183, 0.213, 0.198, 0.243, 0.221, 0.273, 0.287, 0.263, 0.234, 0.257, 0.289, 0.297, 0.271, 0.252, 0.298, 0.312, 0.314, 0.332, 0.297, 0.263, 0.334, 0.312, 0.363, 0.388, 0.323, 0.41, 0.354, 0.372, 0.334, 0.392, 0.387, 0.392, 0.372, 0.389, 0.412, 0.412, 0.421, 0.398, 0.425, 0.423, 0.411, 0.398, 0.352, 0.425, 0.431, 0.421, 0.411, 0.421, 0.421, 0.387, 0.429, 0.423, 0.412, 0.425, 0.462, 0.412]\n",
    "yvalues = [0.0467, 0.089, 0.0561, 0.127, 0.2315, 0.2353, 0.3237, 0.3637, 0.387, 0.421, 0.408, 0.47, 0.53, 0.52, 0.52, 0.54, 0.56, 0.55, 0.52, 0.53, 0.57, 0.62, 0.59, 0.63, 0.61, 0.67, 0.68, 0.7, 0.68, 0.73, 0.71, 0.75, 0.9, 0.82, 0.79, 0.81, 0.81, 0.69, 0.83, 0.87, 0.85, 0.82, 0.87, 0.90, 0.72, 0.9, 0.912, 0.93, 0.83, 0.91, 0.9, 0.87, 0.87, 0.88, 0.83, 0.91, 0.95, 0.92, 0.93, 0.97, 0.96, 0.92, 0.94, 0.96, 0.92, 0.94, 0.95, 0.92, 0.95, 0.96, 0.93, 0.93, 0.93, 0.95, 0.96, 0.97, 0.98, 0.92, 0.94, 0.96, 0.97, 0.98, 0.95, 0.98, 0.96, 0.96, 0.98, 0.97, 0.99, 0.97]"
   ]
  },
  {
   "cell_type": "code",
   "execution_count": 197,
   "metadata": {},
   "outputs": [
    {
     "data": {
      "text/plain": [
       "[<matplotlib.lines.Line2D at 0x7ff8efeb4710>]"
      ]
     },
     "execution_count": 197,
     "metadata": {},
     "output_type": "execute_result"
    },
    {
     "data": {
      "image/png": "[encoded data removed]",
      "text/plain": [
       "<Figure size 432x288 with 1 Axes>"
      ]
     },
     "metadata": {
      "needs_background": "light"
     },
     "output_type": "display_data"
    }
   ],
   "source": [
    "model1 = np.polyfit(xvalues, yvalues, 2)\n",
    "predict = np.poly1d(model1)\n",
    "x_lin_reg = xvalues\n",
    "y_lin_reg = predict(x_lin_reg)\n",
    "plt.scatter(xvalues, yvalues)\n",
    "plt.plot(x_lin_reg, y_lin_reg, c = 'r')\n",
    "# plt.scatter(xvalues,yvalues)"
   ]
  },
  {
   "cell_type": "code",
   "execution_count": 327,
   "metadata": {},
   "outputs": [
    {
     "data": {
      "text/plain": [
       "<matplotlib.legend.Legend at 0x7fb7ad991610>"
      ]
     },
     "execution_count": 327,
     "metadata": {},
     "output_type": "execute_result"
    },
    {
     "data": {
      "image/png": "[encoded data removed]",
      "text/plain": [
       "<Figure size 432x288 with 1 Axes>"
      ]
     },
     "metadata": {
      "needs_background": "light"
     },
     "output_type": "display_data"
    }
   ],
   "source": [
    "# plt.scatter(xvalues, yeety)\n",
    "# plt.plot(x_lin_reg, y_lin_reg, c = 'g')\n",
    "\n",
    "# model3 = np.polyfit(xax, famYax, 2)\n",
    "# predict3 = np.poly1d(model3)\n",
    "# x_lin_reg3 = xax\n",
    "# y_lin_reg3 = predict3(x_lin_reg3)\n",
    "# plt.scatter(xax,famYax, c = 'b', label = 'One Family Network Simulation')\n",
    "# # plt.plot(x_lin_reg3, y_lin_reg3, c = 'b', label = \"Best Fit Line For Family Network\")\n",
    "# plt.plot(x_lin_reg3, y_lin_reg3, c = 'b')\n",
    "\n",
    "\n",
    "# model2 = np.polyfit(xax, yax, 2)\n",
    "# predict2 = np.poly1d(model2)\n",
    "# x_lin_reg2 = xax\n",
    "# y_lin_reg2 = predict2(x_lin_reg2)\n",
    "# plt.scatter(xax,yax, c = 'r', label = 'One Random Network Simulation')\n",
    "# # plt.plot(x_lin_reg2, y_lin_reg2, c = 'r', label = \"Best Fit Line For Random Network\")\n",
    "# plt.plot(x_lin_reg2, y_lin_reg2, c = 'r')\n",
    "\n",
    "\n",
    "model1 = np.polyfit(xax, yvalues, 2)\n",
    "predict = np.poly1d(model1)\n",
    "x_lin_reg = xax\n",
    "y_lin_reg = predict(x_lin_reg)\n",
    "plt.scatter(xax, yvalues, c = 'g', label = 'Infected Families For One Simulation')\n",
    "plt.plot(x_lin_reg, y_lin_reg, c = 'g')\n",
    "\n",
    "\n",
    "plt.xlabel(\"Infection Proability\")\n",
    "plt.ylabel(\"Curve Peak for Fraction of Infected\")\n",
    "plt.title(\"Infected Curve Peak vs Infection Probability\")\n",
    "plt.legend()"
   ]
  },
  {
   "cell_type": "code",
   "execution_count": 322,
   "metadata": {},
   "outputs": [
    {
     "data": {
      "text/plain": [
       "Text(0.5, 0, 'Peak Sample Size Tested')"
      ]
     },
     "execution_count": 322,
     "metadata": {},
     "output_type": "execute_result"
    },
    {
     "data": {
      "image/png": "[encoded data removed]",
      "text/plain": [
       "<Figure size 432x288 with 1 Axes>"
      ]
     },
     "metadata": {
      "needs_background": "light"
     },
     "output_type": "display_data"
    }
   ],
   "source": [
    "axisX = [0, 0.02, 0.04, 0.06, 0.08, 0.1, 0.12, 0.14, 0.16, 0.18, 0.2, 0.22, 0.24]\n",
    "\n",
    "plt.scatter(axisX, st1, c = 'g')\n",
    "plt.plot(axisX, st1, c = 'g', label = 'Symptomatic Testing')\n",
    "plt.scatter(axisX, mt1, c = 'r')\n",
    "plt.plot(axisX, mt1, c = 'r', label = 'Mass Testing')\n",
    "\n",
    "plt.scatter(axisX, ct1, c = 'b')\n",
    "plt.plot(axisX, ct1, c = 'b', label = 'Contact Tracing')\n",
    "\n",
    "plt.plot([0, 0.25], [0.064, 0.0643], linestyle='dashed', label = 'Contained')\n",
    "plt.legend()\n",
    "plt.title(\"Overall Infected Spread\")\n",
    "plt.ylabel(\"Curve Peak\")\n",
    "plt.xlabel(\"Peak Sample Size Tested\")"
   ]
  },
  {
   "cell_type": "code",
   "execution_count": 323,
   "metadata": {},
   "outputs": [
    {
     "data": {
      "text/plain": [
       "Text(0.5, 0, 'Peak Sample Size Tested')"
      ]
     },
     "execution_count": 323,
     "metadata": {},
     "output_type": "execute_result"
    },
    {
     "data": {
      "image/png": "[encoded data removed]",
      "text/plain": [
       "<Figure size 432x288 with 1 Axes>"
      ]
     },
     "metadata": {
      "needs_background": "light"
     },
     "output_type": "display_data"
    }
   ],
   "source": [
    "axisX = [0, 0.02, 0.04, 0.06, 0.08, 0.1, 0.12, 0.14, 0.16, 0.18, 0.2, 0.22, 0.24]\n",
    "\n",
    "plt.scatter(axisX, st2, c = 'g')\n",
    "plt.plot(axisX, st2, c = 'g', label = 'Symptomatic Testing')\n",
    "plt.scatter(axisX, mt2, c = 'r')\n",
    "plt.plot(axisX, mt2, c = 'r', label = 'Mass Testing')\n",
    "\n",
    "plt.scatter(axisX, ct2, c = 'b')\n",
    "plt.plot(axisX, ct2, c = 'b', label = 'Contact Tracing')\n",
    "\n",
    "plt.legend()\n",
    "# plt.title(\"Infected Families Spread\")\n",
    "plt.title(\"Infected Families Spread\")\n",
    "plt.ylabel(\"Curve Peak\")\n",
    "plt.xlabel(\"Peak Sample Size Tested\")"
   ]
  },
  {
   "cell_type": "code",
   "execution_count": 324,
   "metadata": {},
   "outputs": [
    {
     "data": {
      "text/plain": [
       "Text(0.5, 0, 'Peak Sample Size Tested')"
      ]
     },
     "execution_count": 324,
     "metadata": {},
     "output_type": "execute_result"
    },
    {
     "data": {
      "image/png": "[encoded data removed]",
      "text/plain": [
       "<Figure size 432x288 with 1 Axes>"
      ]
     },
     "metadata": {
      "needs_background": "light"
     },
     "output_type": "display_data"
    }
   ],
   "source": [
    "axisX = [0, 0.02, 0.04, 0.06, 0.08, 0.1, 0.12, 0.14, 0.16, 0.18, 0.2, 0.22, 0.24]\n",
    "\n",
    "plt.scatter(axisX, st3, c = 'g')\n",
    "plt.plot(axisX, st3, c = 'g', label = 'Symptomatic Testing')\n",
    "plt.scatter(axisX, mt3, c = 'r')\n",
    "plt.plot(axisX, mt3, c = 'r', label = 'Mass Testing')\n",
    "\n",
    "plt.scatter(axisX, ct3, c = 'b')\n",
    "plt.plot(axisX, ct3, c = 'b', label = 'Contact Tracing')\n",
    "\n",
    "plt.legend()\n",
    "plt.title(\"Presymptomatic Infections\")\n",
    "plt.ylabel(\"Fraction of Nodes\")\n",
    "plt.xlabel(\"Peak Sample Size Tested\")"
   ]
  },
  {
   "cell_type": "code",
   "execution_count": 325,
   "metadata": {},
   "outputs": [],
   "source": [
    "y2 = [0, 14, 21, 48, 34, 91, 233, 487, 499, 571, 647, 673, 674, 709, 729, 737, 757]\n",
    "x1 = [0, 0.005, 0.01, 0.015, 0.02, 0.025, 0.03, 0.035, 0.04, 0.045, 0.05, 0.055, 0.06, 0.065, 0.07, 0.075, 0.08]"
   ]
  },
  {
   "cell_type": "code",
   "execution_count": 259,
   "metadata": {},
   "outputs": [
    {
     "data": {
      "text/plain": [
       "Text(0, 0.5, 'Final Size')"
      ]
     },
     "execution_count": 259,
     "metadata": {},
     "output_type": "execute_result"
    },
    {
     "data": {
      "image/png": "[encoded data removed]",
      "text/plain": [
       "<Figure size 432x288 with 1 Axes>"
      ]
     },
     "metadata": {
      "needs_background": "light"
     },
     "output_type": "display_data"
    }
   ],
   "source": [
    "plt.plot(x1, y2)\n",
    "plt.scatter(x1, y2, label = 'One Simulation')\n",
    "# plt.title(\"Final Size vs. Infection Probability\")\n",
    "\n",
    "plt.legend()\n",
    "plt.xlabel(\"Infection Probability\")\n",
    "plt.ylabel(\"Final Size\")"
   ]
  },
  {
   "cell_type": "code",
   "execution_count": 255,
   "metadata": {},
   "outputs": [],
   "source": [
    "y3 = [0, 0.25, 0.45, 0.83, 0.721, 1, 1.21, 1.4, 1.42, 1.45, 1.47]\n",
    "x3 = [0.0125, 0.0185, 0.0235, 0.03575, 0.062, 0.125, 0.1465, 0.2175, 0.205, 0.23, 0.261]"
   ]
  },
  {
   "cell_type": "code",
   "execution_count": 260,
   "metadata": {},
   "outputs": [
    {
     "data": {
      "text/plain": [
       "Text(0, 0.5, 'Infected Curve Peak')"
      ]
     },
     "execution_count": 260,
     "metadata": {},
     "output_type": "execute_result"
    },
    {
     "data": {
      "image/png": "[encoded data removed]",
      "text/plain": [
       "<Figure size 432x288 with 1 Axes>"
      ]
     },
     "metadata": {
      "needs_background": "light"
     },
     "output_type": "display_data"
    }
   ],
   "source": [
    "plt.scatter(y3, x3, label = 'One Simultaion')\n",
    "plt.legend()\n",
    "plt.xlabel(\"Estimated R nought\")\n",
    "plt.ylabel(\"Infected Curve Peak\")\n",
    "# plt.plot(y3, x3)"
   ]
  },
  {
   "cell_type": "code",
   "execution_count": 35,
   "metadata": {},
   "outputs": [
    {
     "ename": "NameError",
     "evalue": "name 'plt' is not defined",
     "output_type": "error",
     "traceback": [
      "\u001b[0;31m---------------------------------------------------------------------------\u001b[0m",
      "\u001b[0;31mNameError\u001b[0m                                 Traceback (most recent call last)",
      "\u001b[0;32m<ipython-input-35-9b0bbc388306>\u001b[0m in \u001b[0;36m<module>\u001b[0;34m\u001b[0m\n\u001b[0;32m----> 1\u001b[0;31m \u001b[0mplt\u001b[0m\u001b[0;34m.\u001b[0m\u001b[0mscatter\u001b[0m\u001b[0;34m(\u001b[0m\u001b[0mxax\u001b[0m\u001b[0;34m,\u001b[0m \u001b[0mfamYax\u001b[0m\u001b[0;34m,\u001b[0m \u001b[0mc\u001b[0m \u001b[0;34m=\u001b[0m \u001b[0;34m'r'\u001b[0m\u001b[0;34m)\u001b[0m\u001b[0;34m\u001b[0m\u001b[0;34m\u001b[0m\u001b[0m\n\u001b[0m\u001b[1;32m      2\u001b[0m \u001b[0mplt\u001b[0m\u001b[0;34m.\u001b[0m\u001b[0mscatter\u001b[0m\u001b[0;34m(\u001b[0m\u001b[0mxax\u001b[0m\u001b[0;34m,\u001b[0m \u001b[0myax\u001b[0m\u001b[0;34m,\u001b[0m \u001b[0mc\u001b[0m \u001b[0;34m=\u001b[0m \u001b[0;34m'b'\u001b[0m\u001b[0;34m)\u001b[0m\u001b[0;34m\u001b[0m\u001b[0;34m\u001b[0m\u001b[0m\n",
      "\u001b[0;31mNameError\u001b[0m: name 'plt' is not defined"
     ]
    }
   ],
   "source": [
    "plt.scatter(xax, famYax, c = 'r')\n",
    "plt.scatter(xax, yax, c = 'b')"
   ]
  },
  {
   "cell_type": "code",
   "execution_count": 46,
   "metadata": {},
   "outputs": [],
   "source": [
    "# Datasets:"
   ]
  },
  {
   "cell_type": "code",
   "execution_count": 51,
   "metadata": {},
   "outputs": [],
   "source": [
    "# Figure 1 dataset:\n",
    "# final size\n",
    "y2 = [0, 14, 21, 48, 34, 91, 233, 487, 499, 571, 647, 673, 674, 709, 729, 737, 757]\n",
    "# infection prob\n",
    "x1 = [0, 0.005, 0.01, 0.015, 0.02, 0.025, 0.03, 0.035, 0.04, 0.045, 0.05, 0.055, 0.06, 0.065, 0.07, 0.075, 0.08]\n",
    "\n",
    "# Figure 2 dataset:\n",
    "# r naught value\n",
    "y3 = [0, 0.25, 0.45, 0.83, 0.721, 1, 1.21, 1.4, 1.42, 1.45, 1.47]\n",
    "# curve peak\n",
    "x3 = [0.0125, 0.0185, 0.0235, 0.03575, 0.062, 0.125, 0.1465, 0.2175, 0.205, 0.23, 0.261]\n",
    "\n",
    "# Figure 4 dataset:\n",
    "# curve peaks\n",
    "yax = [0.0125, 0.0125, 0.0125, 0.0134, 0.0125, 0.0142, 0.013, 0.018, 0.013, 0.017, 0.02, 0.02625, 0.0275, 0.0287, 0.0371, 0.0472, 0.0538, 0.0421, 0.031, 0.052,0.13, 0.083, 0.098, 0.062, 0.121, 0.132, 0.173, 0.093, 0.182, 0.212, 0.183, 0.172, 0.132, 0.221, 0.183, 0.213, 0.198, 0.243, 0.221, 0.273, 0.287, 0.263, 0.234, 0.257, 0.289, 0.297, 0.271, 0.252, 0.298, 0.312, 0.314, 0.332, 0.297, 0.263, 0.334, 0.312, 0.363, 0.388, 0.323, 0.41, 0.354, 0.372, 0.334, 0.392, 0.387, 0.392, 0.372, 0.389, 0.412, 0.412, 0.421, 0.398, 0.425, 0.423, 0.411, 0.398, 0.352, 0.425, 0.431, 0.421, 0.411, 0.421, 0.421, 0.387, 0.429, 0.423, 0.412, 0.425, 0.462, 0.412]\n",
    "yeet2y = [0.0125, 0.0125, 0.01125, 0.01125, 0.01375, 0.0125, 0.0125, 0.01375, 0.01375, 0.015, 0.02, 0.01625, 0.015, 0.01625, 0.0175, 0.05125, 0.07, 0.0725, 0.06625, 0.12375, 0.08, 0.1125, 0.11875, 0.10125, 0.125, 0.14375, 0.16625, 0.15625, 0.13375, 0.19375, 0.18375, 0.1775, 0.2, 0.22125, 0.1875, 0.18375, 0.245, 0.2025, 0.205, 0.235, 0.28625, 0.26875, 0.30125, 0.312, 0.312, 0.323, 0.319, 0.347, 0.31, 0.32, 0.39, 0.42]\n",
    "\n",
    "\n",
    "# Figure 7 dataset:\n",
    "# family curve peaks\n",
    "famYax= [0.0125, 0.0136, 0.0125, 0.0158, 0.0159, 0.0173, 0.018, 0.0163, 0.0147, 0.023, 0.02, 0.0321, 0.0219, 0.018, 0.069, 0.0875, 0.097, 0.014, 0.0121, 0.0163 ,0.165, 0.162, 0.138, 0.188, 0.199, 0.1925, 0.246, 0.233, 0.25, 0.212, 0.2537, 0.27, 0.287, 0.335, 0.319, 0.289, 0.357, 0.387, 0.396, 0.387, 0.372, 0.375, 0.391, 0.388, 0.412, 0.379, 0.372, 0.42, 0.387, 0.392, 0.421, 0.4187, 0.4276, 0.512, 0.38, 0.421, 0.421, 0.4319, 0.4197, 0.382, 0.42125, 0.43, 0.412, 0.423, 0.442, 0.376, 0.42, 0.42, 0.462, 0.451, 0.432 ,0.45, 0.46, 0.52, 0.435, 0.492, 0.512, 0.47, 0.501, 0.481, 0.521, 0.51, 0.462, 0.392, 0.521, 0.5225, 0.562, 0.503, 0.553, 0.542]"
   ]
  },
  {
   "cell_type": "code",
   "execution_count": 49,
   "metadata": {},
   "outputs": [],
   "source": [
    "# Testing Datasets: Figure 10, 11, 12.\n",
    "# recorded data for mass testing \n",
    "\n",
    "\n",
    "\n",
    "# curve peak\n",
    "st1 = [0.28, 0.18875, 0.17, 0.2025, 0.1775, 0.21125, 0.2025, 0.2525, 0.20625, 0.205, 0.205, 0.1987, 0.2325]\n",
    "# family curve peak\n",
    "st2 = [0.863, 0.73725, 0.56375, 0.56625, 0.5825, 0.5975, 0.54624, 0.62, 0.69, 0.66, 0.6, 0.64, 0.7212]\n",
    "# presymptoomatic infections\n",
    "st3 = [0.61, 0.57, 0.56, 0.56625, 0.5825, 0.5975, 0.54625, 0.5825, 0.57875, 0.63875, 0.61875, 0.634, 0.62375]\n",
    "\n",
    "# recorded data for symptomatic testing\n",
    "# curve peak\n",
    "mt1 = [0.2775, 0.2375, 0.24625, 0.258, 0.1625, 0.2375, 0.17375, 0.13375, 0.1375, 0.07, 0.08875, 0.0525, 0.0525]\n",
    "# family curve peak\n",
    "mt2 = [0.747, 0.6956, 0.7913, 0.765, 0.504, 0.634, 0.46, 0.36, 0.469, 0.2, 0.156, 0.182, 0.191]\n",
    "# presymptoomatic infections\n",
    "mt3 = [0.6125, 0.545, 0.515, 0.4875, 0.40375, 0.45, 0.39, 0.2337, 0.29375, 0.14875, 0.13625, 0.1425, 0.12]\n",
    "\n",
    "# recorded data for contact tracing\n",
    "# curve peak\n",
    "ct1 = [0.287, 0.23875, 0.1275, 0.13375, 0.095, 0.0975, 0.12, 0.10125, 0.0575, 0.054, 0.087, 0.0625, 0.053]\n",
    "# family curve peak\n",
    "ct2 = [0.81, 0.62, 0.365, 0.426, 0.295, 0.365, 0.417, 0.321, 0.226, 0.295, 0.237, 0.225, 0.248]\n",
    "# presymptomatic infections\n",
    "ct3 = [0.635, 0.28875, 0.26, 0.19, 0.3425, 0.375, 0.235, 0.1812, 0.2525, 0.33375, 0.255, 0.2146, 0.1987]"
   ]
  },
  {
   "cell_type": "code",
   "execution_count": null,
   "metadata": {},
   "outputs": [],
   "source": []
  }
 ],
 "metadata": {
  "kernelspec": {
   "display_name": "Python 3",
   "language": "python",
   "name": "python3"
  },
  "language_info": {
   "codemirror_mode": {
    "name": "ipython",
    "version": 3
   },
   "file_extension": ".py",
   "mimetype": "text/x-python",
   "name": "python",
   "nbconvert_exporter": "python",
   "pygments_lexer": "ipython3",
   "version": "3.7.4"
  }
 },
 "nbformat": 4,
 "nbformat_minor": 2
}
